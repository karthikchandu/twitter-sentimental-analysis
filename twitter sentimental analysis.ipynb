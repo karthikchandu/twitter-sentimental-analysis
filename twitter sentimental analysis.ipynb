{
 "cells": [
  {
   "cell_type": "code",
   "execution_count": 2,
   "metadata": {},
   "outputs": [],
   "source": [
    "import tweepy\n"
   ]
  },
  {
   "cell_type": "code",
   "execution_count": 4,
   "metadata": {},
   "outputs": [],
   "source": [
    "from textblob import TextBlob"
   ]
  },
  {
   "cell_type": "code",
   "execution_count": 7,
   "metadata": {},
   "outputs": [
    {
     "name": "stdout",
     "output_type": "stream",
     "text": [
      "RT @PickardJE: quote of the day is Donald Trump just now:\n",
      "\n",
      "\"I tested very positively in another sense. So this morning I tested positively…\n",
      "Sentiment(polarity=0.29545454545454547, subjectivity=0.7090909090909091)\n",
      "RT @jonfavs: Let’s frame this the right way: Donald Trump has threatened to harm the citizens of Nevada and Michigan because their elected…\n",
      "Sentiment(polarity=0.2857142857142857, subjectivity=0.5357142857142857)\n",
      "RT @RobertoCarlo14: 💥➡️ABRO HILO SIDERAL\n",
      "\n",
      "EE.UU. regresa al espacio después de 9 años de haber retirado su programa de transbordadores espa…\n",
      "Sentiment(polarity=0.0, subjectivity=0.0)\n",
      "RT @middleageriot: I don't give a shit what happens to Donald Trump, but other people shouldn't have to get sick just because the president…\n",
      "Sentiment(polarity=-0.3464285714285715, subjectivity=0.6773809523809523)\n",
      "RT @EpochTimesChina: President Donald Trump said the US would react strongly if #China imposes a planned #NationalSecurity law on #HongKong…\n",
      "Sentiment(polarity=0.4333333333333333, subjectivity=0.7333333333333333)\n",
      "RT @4YrsToday: Is Donald Trump speaking from the heart when he says Hispanic Americans are uplifting him?\n",
      "Sentiment(polarity=0.0, subjectivity=0.0)\n",
      "RT @BillKristol: “I’ve been a Republican all my life. But I believe that this nation and the Republican Party can’t survive four more years…\n",
      "Sentiment(polarity=0.5, subjectivity=0.5)\n",
      "RT @glennkirschner2: Hey All. Here's our next installment of \"A Layman's Guide to Trump's Crimes\" or \"A Citizen's Guide to Prosecuting Dona…\n",
      "Sentiment(polarity=0.0, subjectivity=0.0)\n",
      "RT @ThePubliusUSA: Raise your hand if you want Donald Trump to be indicted, convicted and imprisoned for the rest of his life for his crimi…\n",
      "Sentiment(polarity=0.0, subjectivity=0.0)\n",
      "RT @BillKristol: “I’ve been a Republican all my life. But I believe that this nation and the Republican Party can’t survive four more years…\n",
      "Sentiment(polarity=0.5, subjectivity=0.5)\n",
      "RT @BillKristol: “I’ve been a Republican all my life. But I believe that this nation and the Republican Party can’t survive four more years…\n",
      "Sentiment(polarity=0.5, subjectivity=0.5)\n",
      "Open SmartNews to read 'Former Trump ‘fixer’ Michael Cohen released from prison because of coronavirus fears' here:… https://t.co/WshaNgnHYJ\n",
      "Sentiment(polarity=0.0, subjectivity=0.25)\n",
      "RT @BlueWaveIsHere: Who is more corrupted than Donald Trump?\n",
      "\n",
      "I’ll wait.\n",
      "Sentiment(polarity=0.5, subjectivity=0.5)\n",
      "RT @DailyCaller: Democratic US Areas Were Hit Three Times Harder By Coronavirus Than Republican Ones https://t.co/OOLufjnuTw\n",
      "Sentiment(polarity=-0.1, subjectivity=0.0)\n",
      "RT @tmbrown327: Intelligence Officials Reportedly Struggle To Brief Trump Because He’s Like A Giant Toddler #SmartNews  https://t.co/RP53gP…\n",
      "Sentiment(polarity=0.0, subjectivity=0.6666666666666666)\n"
     ]
    }
   ],
   "source": [
    "consumer_key ='ceJMJNXWfFPj1c1whsX0EOsV7'\n",
    "consumer_secret ='P5u1XUXIqlBlUvbX3IBbxNLfF51zZHxQRTGsgBqzxD78TE3zPz'\n",
    "access_token ='1263541927317655552-oZu71ZyWwsSF6K72BQEjUIW6JP6XLG'\n",
    "access_token_secret ='Z4KPM1u6HC93BmhwVALtt2EIqBPW6MEDOyuUs9sMATfhZ'\n",
    "auth =tweepy.OAuthHandler(consumer_key,consumer_secret)\n",
    "auth.set_access_token(access_token,access_token_secret)\n",
    "api =tweepy.API(auth)\n",
    "public_tweets = api.search('Donald Trump')\n",
    "for tweet in public_tweets:\n",
    "    print(tweet.text)\n",
    "    analysis = TextBlob(tweet.text)\n",
    "    print(analysis.sentiment)"
   ]
  },
  {
   "cell_type": "code",
   "execution_count": 8,
   "metadata": {},
   "outputs": [],
   "source": [
    "# polarity and subjectivity for each and every is mentioned with , positivity, negativity, neutrality"
   ]
  },
  {
   "cell_type": "code",
   "execution_count": null,
   "metadata": {},
   "outputs": [],
   "source": [
    "THANK YOU............."
   ]
  }
 ],
 "metadata": {
  "kernelspec": {
   "display_name": "Python 3",
   "language": "python",
   "name": "python3"
  },
  "language_info": {
   "codemirror_mode": {
    "name": "ipython",
    "version": 3
   },
   "file_extension": ".py",
   "mimetype": "text/x-python",
   "name": "python",
   "nbconvert_exporter": "python",
   "pygments_lexer": "ipython3",
   "version": "3.7.4"
  }
 },
 "nbformat": 4,
 "nbformat_minor": 4
}
